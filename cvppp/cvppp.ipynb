{
 "cells": [
  {
   "cell_type": "code",
   "execution_count": 33,
   "metadata": {
    "collapsed": true
   },
   "outputs": [],
   "source": [
    "import sys\n",
    "sys.path.insert(0, '..')\n",
    "\n",
    "import torch\n",
    "import torch.nn as nn\n",
    "import matplotlib.pyplot as plt\n",
    "from os import listdir\n",
    "from os.path import join\n",
    "import deepcoloring as dc\n",
    "%matplotlib inline\n",
    "import numpy as np\n",
    "\n",
    "device = torch.device(\"cuda\" if torch.cuda.is_available() else \"cpu\")"
   ]
  },
  {
   "cell_type": "markdown",
   "metadata": {},
   "source": [
    "In order to run this example you need to download dataset https://www.plant-phenotyping.org/datasets-download"
   ]
  },
  {
   "cell_type": "code",
   "execution_count": 2,
   "metadata": {
    "collapsed": false
   },
   "outputs": [],
   "source": [
    "basepath = \"/media/hpc-4_Raid/vkulikov/CVPPP2017_LSC_training/training/A1/\"\n",
    "rgb = sorted([join(basepath,f) for f in listdir(basepath) if f.endswith('_rgb.png')])\n",
    "labels = sorted([join(basepath,f) for f in listdir(basepath) if f.endswith('_label.png')])\n",
    "\n",
    "reader = dc.Reader(rgb,labels,2)"
   ]
  },
  {
   "cell_type": "code",
   "execution_count": 31,
   "metadata": {
    "collapsed": true
   },
   "outputs": [],
   "source": [
    "transforms = [dc.rgba2rgb(),\n",
    "              dc.clip_patch((192,192)),\n",
    "        dc.flip_horizontally(),\n",
    "        dc.flip_vertically(),\n",
    "        dc.utils.rotate90(),\n",
    "        dc.normalize(0.5,0.5)]\n",
    "\n",
    "generetor = reader.create_batch_generator(10,transforms=transforms)\n",
    "mask_builder = dc.build_halo_mask()"
   ]
  },
  {
   "cell_type": "code",
   "execution_count": 41,
   "metadata": {
    "collapsed": false
   },
   "outputs": [
    {
     "name": "stdout",
     "output_type": "stream",
     "text": [
      "tensor([ 0.9069], device='cuda:0')\n",
      "tensor([ 0.7925], device='cuda:0')\n",
      "tensor([ 0.7190], device='cuda:0')\n",
      "tensor([ 0.6925], device='cuda:0')\n",
      "tensor([ 0.6518], device='cuda:0')\n",
      "tensor([ 0.6315], device='cuda:0')\n",
      "tensor([ 0.5354], device='cuda:0')\n",
      "tensor([ 0.5774], device='cuda:0')\n",
      "tensor([ 0.6140], device='cuda:0')\n",
      "tensor([ 0.6272], device='cuda:0')\n"
     ]
    }
   ],
   "source": [
    "net = dc.EUnet(3,6,2,2,2,padding=1,init_xavier=True,use_bn=True,use_dropout=True).to(device)\n",
    "\n",
    "optim = torch.optim.Adam(net.parameters(),lr=0.001)\n",
    "for i in range(10):\n",
    "    x,y = generetor()\n",
    "    x_t = torch.from_numpy(x).to(device)\n",
    "    optim.zero_grad()\n",
    "    y_pred = net(x_t)\n",
    "    labels,halo,objects = mask_builder(y)\n",
    "    loss = dc.halo_loss(y_pred,labels,halo,objects)\n",
    "    loss.backward()\n",
    "    optim.step()"
   ]
  }
 ],
 "metadata": {
  "kernelspec": {
   "display_name": "Python 2",
   "language": "python",
   "name": "python2"
  },
  "language_info": {
   "codemirror_mode": {
    "name": "ipython",
    "version": 2
   },
   "file_extension": ".py",
   "mimetype": "text/x-python",
   "name": "python",
   "nbconvert_exporter": "python",
   "pygments_lexer": "ipython2",
   "version": "2.7.6"
  }
 },
 "nbformat": 4,
 "nbformat_minor": 1
}
